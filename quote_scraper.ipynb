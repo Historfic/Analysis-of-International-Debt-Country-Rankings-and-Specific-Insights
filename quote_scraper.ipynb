{
  "nbformat": 4,
  "nbformat_minor": 0,
  "metadata": {
    "colab": {
      "provenance": [],
      "authorship_tag": "ABX9TyMeOWvVSvVIeb/d2/fRmuNd",
      "include_colab_link": true
    },
    "kernelspec": {
      "name": "python3",
      "display_name": "Python 3"
    },
    "language_info": {
      "name": "python"
    }
  },
  "cells": [
    {
      "cell_type": "markdown",
      "metadata": {
        "id": "view-in-github",
        "colab_type": "text"
      },
      "source": [
        "<a href=\"https://colab.research.google.com/github/Historfic/Analysis-of-International-Debt-Country-Rankings-and-Specific-Insights/blob/main/quote_scraper.ipynb\" target=\"_parent\"><img src=\"https://colab.research.google.com/assets/colab-badge.svg\" alt=\"Open In Colab\"/></a>"
      ]
    },
    {
      "cell_type": "code",
      "source": [
        "from scrapy import Selector\n",
        "import requests\n",
        "import pandas as pd\n",
        "import time\n",
        "\n",
        "try:\n",
        "    url = 'https://www.sideshow.com/blog/the-top-10-captain-america-quotes-in-the-mcu/'\n",
        "    # Add a delay to avoid rate limiting\n",
        "    time.sleep(5)\n",
        "\n",
        "    # Fetch the content of the URL\n",
        "    response = requests.get(url)\n",
        "    html = response.content\n",
        "\n",
        "    # Initialize Selector with the HTML content\n",
        "    sel = Selector(text=html)\n",
        "\n",
        "    # Extract <h2> elements\n",
        "    h2_elements = sel.xpath('//h2/text()').extract()\n",
        "\n",
        "    # Create a DataFrame from the extracted data\n",
        "    df = pd.DataFrame(h2_elements, columns=['Quote'])\n",
        "\n",
        "    # Save the DataFrame to a CSV file\n",
        "    csv_filename = 'captain_america_quotes.csv'\n",
        "    df.to_csv(csv_filename, index=False)\n",
        "\n",
        "    print(f'Data has been saved to {csv_filename}')\n",
        "\n",
        "except Exception as e:\n",
        "    print(f'An error has occurred during connection or data processing: {e}')\n"
      ],
      "metadata": {
        "colab": {
          "base_uri": "https://localhost:8080/"
        },
        "id": "tnaEvW3kYGYJ",
        "outputId": "2a656993-6ca7-42dd-c74d-523a90d727e6"
      },
      "execution_count": 46,
      "outputs": [
        {
          "output_type": "stream",
          "name": "stdout",
          "text": [
            "Data has been saved to captain_america_quotes.csv\n"
          ]
        }
      ]
    },
    {
      "cell_type": "code",
      "source": [
        "from scrapy import Selector\n",
        "import requests\n",
        "import pandas as pd\n",
        "import time\n",
        "\n",
        "try:\n",
        "    url = 'https://quotes.mirrorreview.com/captain-america-quotes/'\n",
        "    # Add a delay to avoid rate limiting\n",
        "    time.sleep(5)\n",
        "\n",
        "    # Fetch the content of the URL\n",
        "    response = requests.get(url)\n",
        "    html = response.content\n",
        "\n",
        "    # Initialize Selector with the HTML content\n",
        "    sel = Selector(text=html)\n",
        "\n",
        "    # Extract <h2> elements\n",
        "    h2_elements = sel.xpath('//div/ol/li/h3/strong/span/text()').extract()\n",
        "\n",
        "    # Create a DataFrame from the extracted data\n",
        "    df = pd.DataFrame(h2_elements, columns=['Quote'])\n",
        "\n",
        "    # Save the DataFrame to a CSV file\n",
        "    csv_filename = 'captain_america_quotes_3.csv'\n",
        "    df.to_csv(csv_filename, index=False)\n",
        "\n",
        "    print(f'Data has been saved to {csv_filename}')\n",
        "\n",
        "except Exception as e:\n",
        "    print(f'An error has occurred during connection or data processing: {e}')\n"
      ],
      "metadata": {
        "colab": {
          "base_uri": "https://localhost:8080/"
        },
        "id": "sguUfJUDN3mB",
        "outputId": "83095624-7b8d-4c5d-b0c9-160d4bcee808"
      },
      "execution_count": 47,
      "outputs": [
        {
          "output_type": "stream",
          "name": "stdout",
          "text": [
            "Data has been saved to captain_america_quotes_3.csv\n"
          ]
        }
      ]
    },
    {
      "cell_type": "markdown",
      "source": [
        "/html/body/div[1]/div[1]/div/div/main/div/div/section[1]/div/div[1]/div/section/div/div/div/div[3]/div/ol[1]/li/h3/strong/span/text()\n",
        "\n",
        "/html/body/div[1]/div[1]/div/div/main/div/div/section[1]/div/div[1]/div/section/div/div/div/div[3]/div/ol[2]/li/h3/strong/span\n",
        "\n",
        "/html/body/div[1]/div[1]/div/div/main/div/div/section[1]/div/div[1]/div/section/div/div/div/div[3]/div/ol[3]/li/h3/strong/span/text()\n",
        "\n",
        "//div/ol[1]/li/h3/strong/span/text()\n",
        "\n",
        "/div/ol[2]/li/h3/strong/span\n",
        "\n",
        "/div/ol[3]/li/h3/strong/span/text()\n",
        "\n",
        "/div/ol/li/h3/strong/span/text()\n",
        "\n"
      ],
      "metadata": {
        "id": "uVrLOm5fO9hX"
      }
    }
  ]
}